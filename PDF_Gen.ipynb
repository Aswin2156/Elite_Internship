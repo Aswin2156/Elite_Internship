{
  "nbformat": 4,
  "nbformat_minor": 0,
  "metadata": {
    "colab": {
      "provenance": []
    },
    "kernelspec": {
      "name": "python3",
      "display_name": "Python 3"
    },
    "language_info": {
      "name": "python"
    }
  },
  "cells": [
    {
      "cell_type": "code",
      "execution_count": 1,
      "metadata": {
        "colab": {
          "base_uri": "https://localhost:8080/"
        },
        "id": "KBNkiZ4-rYuN",
        "outputId": "ce97917a-02b1-492d-f2ef-b7ee62061291"
      },
      "outputs": [
        {
          "output_type": "stream",
          "name": "stdout",
          "text": [
            "Requirement already satisfied: pandas in /usr/local/lib/python3.11/dist-packages (2.2.2)\n",
            "Collecting fpdf2\n",
            "  Downloading fpdf2-2.8.3-py2.py3-none-any.whl.metadata (69 kB)\n",
            "\u001b[2K     \u001b[90m━━━━━━━━━━━━━━━━━━━━━━━━━━━━━━━━━━━━━━━━\u001b[0m \u001b[32m69.7/69.7 kB\u001b[0m \u001b[31m1.7 MB/s\u001b[0m eta \u001b[36m0:00:00\u001b[0m\n",
            "\u001b[?25hRequirement already satisfied: matplotlib in /usr/local/lib/python3.11/dist-packages (3.10.0)\n",
            "Requirement already satisfied: numpy>=1.23.2 in /usr/local/lib/python3.11/dist-packages (from pandas) (2.0.2)\n",
            "Requirement already satisfied: python-dateutil>=2.8.2 in /usr/local/lib/python3.11/dist-packages (from pandas) (2.9.0.post0)\n",
            "Requirement already satisfied: pytz>=2020.1 in /usr/local/lib/python3.11/dist-packages (from pandas) (2025.2)\n",
            "Requirement already satisfied: tzdata>=2022.7 in /usr/local/lib/python3.11/dist-packages (from pandas) (2025.2)\n",
            "Requirement already satisfied: defusedxml in /usr/local/lib/python3.11/dist-packages (from fpdf2) (0.7.1)\n",
            "Requirement already satisfied: Pillow!=9.2.*,>=6.2.2 in /usr/local/lib/python3.11/dist-packages (from fpdf2) (11.2.1)\n",
            "Requirement already satisfied: fonttools>=4.34.0 in /usr/local/lib/python3.11/dist-packages (from fpdf2) (4.57.0)\n",
            "Requirement already satisfied: contourpy>=1.0.1 in /usr/local/lib/python3.11/dist-packages (from matplotlib) (1.3.2)\n",
            "Requirement already satisfied: cycler>=0.10 in /usr/local/lib/python3.11/dist-packages (from matplotlib) (0.12.1)\n",
            "Requirement already satisfied: kiwisolver>=1.3.1 in /usr/local/lib/python3.11/dist-packages (from matplotlib) (1.4.8)\n",
            "Requirement already satisfied: packaging>=20.0 in /usr/local/lib/python3.11/dist-packages (from matplotlib) (24.2)\n",
            "Requirement already satisfied: pyparsing>=2.3.1 in /usr/local/lib/python3.11/dist-packages (from matplotlib) (3.2.3)\n",
            "Requirement already satisfied: six>=1.5 in /usr/local/lib/python3.11/dist-packages (from python-dateutil>=2.8.2->pandas) (1.17.0)\n",
            "Downloading fpdf2-2.8.3-py2.py3-none-any.whl (245 kB)\n",
            "\u001b[2K   \u001b[90m━━━━━━━━━━━━━━━━━━━━━━━━━━━━━━━━━━━━━━━━\u001b[0m \u001b[32m245.7/245.7 kB\u001b[0m \u001b[31m5.1 MB/s\u001b[0m eta \u001b[36m0:00:00\u001b[0m\n",
            "\u001b[?25hInstalling collected packages: fpdf2\n",
            "Successfully installed fpdf2-2.8.3\n"
          ]
        }
      ],
      "source": [
        "pip install pandas fpdf2 matplotlib\n"
      ]
    },
    {
      "cell_type": "code",
      "source": [
        "import pandas as pd"
      ],
      "metadata": {
        "id": "-KEqn2jMrouX"
      },
      "execution_count": 2,
      "outputs": []
    },
    {
      "cell_type": "code",
      "source": [
        "import pandas as pd\n",
        "from fpdf import FPDF\n",
        "import os\n",
        "\n",
        "# --- 1. Read Data ---\n",
        "def load_data(file_path):\n",
        "    df = pd.read_csv(file_path)\n",
        "    return df\n",
        "\n",
        "# --- 2. Analyze Data ---\n",
        "def analyze_data(df):\n",
        "    summary = {\n",
        "        \"Total Employees\": len(df),\n",
        "        \"Average Age\": round(df[\"Age\"].mean(), 2),\n",
        "        \"Average Salary\": round(df[\"Salary\"].mean(), 2),\n",
        "        \"Highest Salary\": df[\"Salary\"].max(),\n",
        "        \"Departments\": df[\"Department\"].nunique()\n",
        "    }\n",
        "\n",
        "    salary_by_dept = df.groupby(\"Department\")[\"Salary\"].mean().round(2).to_dict()\n",
        "    summary[\"Average Salary by Department\"] = salary_by_dept\n",
        "\n",
        "    return summary\n",
        "\n",
        "# --- 3. Create PDF Report ---\n",
        "class PDF(FPDF):\n",
        "    def header(self):\n",
        "        self.set_font('Arial', 'B', 16)\n",
        "        self.cell(0, 10, 'Employee Data Analysis Report', align='C', ln=True)\n",
        "        self.ln(10)\n",
        "\n",
        "    def chapter_title(self, title):\n",
        "        self.set_font('Arial', 'B', 12)\n",
        "        self.cell(0, 10, title, ln=True)\n",
        "        self.ln(5)\n",
        "\n",
        "    def chapter_body(self, body):\n",
        "        self.set_font('Arial', '', 12)\n",
        "        self.multi_cell(0, 10, body)\n",
        "        self.ln()\n",
        "\n",
        "    def add_summary_table(self, summary):\n",
        "        self.set_font(\"Arial\", size=12)\n",
        "        col_width = self.epw / 2  # 2 columns\n",
        "        self.cell(col_width, 10, \"Metric\", border=1)\n",
        "        self.cell(col_width, 10, \"Value\", border=1, ln=True)\n",
        "\n",
        "        for key, value in summary.items():\n",
        "            if isinstance(value, dict):\n",
        "                continue  # skip nested dicts for now\n",
        "            self.cell(col_width, 10, str(key), border=1)\n",
        "            self.cell(col_width, 10, str(value), border=1, ln=True)\n",
        "\n",
        "    def add_salary_by_department(self, dept_data):\n",
        "        self.chapter_title(\"Average Salary by Department\")\n",
        "        col_width = self.epw / 2\n",
        "        self.cell(col_width, 10, \"Department\", border=1)\n",
        "        self.cell(col_width, 10, \"Avg Salary\", border=1, ln=True)\n",
        "\n",
        "        for dept, salary in dept_data.items():\n",
        "            self.cell(col_width, 10, dept)\n",
        "            self.cell(col_width, 10, str(salary), ln=True, border=1)\n",
        "\n",
        "\n",
        "def generate_pdf(summary, dept_data, filename=\"employee_report.pdf\"):\n",
        "    pdf = PDF()\n",
        "    pdf.add_page()\n",
        "\n",
        "    pdf.chapter_title(\"Summary Statistics\")\n",
        "    pdf.add_summary_table(summary)\n",
        "\n",
        "    pdf.add_page()\n",
        "    pdf.add_salary_by_department(dept_data)\n",
        "\n",
        "    pdf.output(filename)\n",
        "    print(f\"✅ Report saved as '{filename}'\")\n",
        "\n",
        "# --- Main Execution ---\n",
        "# Removed the check for __name__ == \"__main__\" as it's not needed in a notebook\n",
        "# and replaced __file__ with the direct path to the data file\n",
        "data_path = \"/content/Emp.csv\"  # Use the explicit path\n",
        "\n",
        "# Load and analyze data\n",
        "df = load_data(data_path)\n",
        "summary = analyze_data(df)\n",
        "\n",
        "# Generate PDF\n",
        "generate_pdf(summary, summary[\"Average Salary by Department\"])"
      ],
      "metadata": {
        "colab": {
          "base_uri": "https://localhost:8080/"
        },
        "id": "vpr8I_dYtZOz",
        "outputId": "64c029b0-c4d0-4b99-af3f-47d883a5c588"
      },
      "execution_count": 18,
      "outputs": [
        {
          "output_type": "stream",
          "name": "stdout",
          "text": [
            "✅ Report saved as 'employee_report.pdf'\n"
          ]
        },
        {
          "output_type": "stream",
          "name": "stderr",
          "text": [
            "<ipython-input-18-064989657e10>:28: DeprecationWarning: Substituting font arial by core font helvetica - This is deprecated since v2.7.8, and will soon be removed\n",
            "  self.set_font('Arial', 'B', 16)\n",
            "<ipython-input-18-064989657e10>:29: DeprecationWarning: The parameter \"ln\" is deprecated since v2.5.2. Instead of ln=True use new_x=XPos.LMARGIN, new_y=YPos.NEXT.\n",
            "  self.cell(0, 10, 'Employee Data Analysis Report', align='C', ln=True)\n",
            "<ipython-input-18-064989657e10>:33: DeprecationWarning: Substituting font arial by core font helvetica - This is deprecated since v2.7.8, and will soon be removed\n",
            "  self.set_font('Arial', 'B', 12)\n",
            "<ipython-input-18-064989657e10>:34: DeprecationWarning: The parameter \"ln\" is deprecated since v2.5.2. Instead of ln=True use new_x=XPos.LMARGIN, new_y=YPos.NEXT.\n",
            "  self.cell(0, 10, title, ln=True)\n",
            "<ipython-input-18-064989657e10>:43: DeprecationWarning: Substituting font arial by core font helvetica - This is deprecated since v2.7.8, and will soon be removed\n",
            "  self.set_font(\"Arial\", size=12)\n",
            "<ipython-input-18-064989657e10>:46: DeprecationWarning: The parameter \"ln\" is deprecated since v2.5.2. Instead of ln=True use new_x=XPos.LMARGIN, new_y=YPos.NEXT.\n",
            "  self.cell(col_width, 10, \"Value\", border=1, ln=True)\n",
            "<ipython-input-18-064989657e10>:52: DeprecationWarning: The parameter \"ln\" is deprecated since v2.5.2. Instead of ln=True use new_x=XPos.LMARGIN, new_y=YPos.NEXT.\n",
            "  self.cell(col_width, 10, str(value), border=1, ln=True)\n",
            "<ipython-input-18-064989657e10>:58: DeprecationWarning: The parameter \"ln\" is deprecated since v2.5.2. Instead of ln=True use new_x=XPos.LMARGIN, new_y=YPos.NEXT.\n",
            "  self.cell(col_width, 10, \"Avg Salary\", border=1, ln=True)\n",
            "<ipython-input-18-064989657e10>:62: DeprecationWarning: The parameter \"ln\" is deprecated since v2.5.2. Instead of ln=True use new_x=XPos.LMARGIN, new_y=YPos.NEXT.\n",
            "  self.cell(col_width, 10, str(salary), ln=True, border=1)\n"
          ]
        }
      ]
    },
    {
      "cell_type": "code",
      "source": [],
      "metadata": {
        "id": "n77wm8Ntwlpc"
      },
      "execution_count": null,
      "outputs": []
    }
  ]
}